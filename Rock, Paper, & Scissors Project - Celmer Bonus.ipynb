{
 "cells": [
  {
   "cell_type": "code",
   "execution_count": null,
   "id": "f258d42c",
   "metadata": {},
   "outputs": [],
   "source": [
    "# prompt user for input and defined conditions for who wins\n",
    "def play_function():\n",
    "    \n",
    "    import random as rand \n",
    "  \n",
    "    options = ['rock', 'scissors', 'paper']\n",
    "    user_input = input(\"User select rock, paper, or scissors: \")\n",
    "    user_input = user_input.lower()\n",
    "    comp_input = rand.choice(options)\n",
    "    print(f\"The computer selects... {comp_input}\")\n",
    "    \n",
    "    if user_input == 'rock' and comp_input == 'scissors':\n",
    "        print(\"You wins!\")\n",
    "    elif user_input == 'scissors' and comp_input == 'paper':\n",
    "        print(\"You wins!\")\n",
    "    elif user_input == 'paper' and comp_input == 'rock':\n",
    "        print(\"You wins!\")\n",
    "    elif comp_input == 'rock' and user_input == 'scissors':\n",
    "        print(\"You lose.\")\n",
    "    elif comp_input == 'scissors' and user_input == 'paper':\n",
    "        print(\"You lose.\")\n",
    "    elif comp_input == 'paper' and user_input == 'rock':\n",
    "        print(\"You lose.\")\n",
    "    elif user_input == comp_input:\n",
    "        print(\"It\\'s a draw\")\n",
    "    else:\n",
    "        print(\"Error in user input\")\n",
    " \n",
    "    return"
   ]
  },
  {
   "cell_type": "code",
   "execution_count": null,
   "id": "cfa30fd0",
   "metadata": {},
   "outputs": [],
   "source": [
    "# function allowing the user to play another game\n",
    "def play_again_function():\n",
    "    play_function()\n",
    "    again = input(\"Would like to play again (yes or no): \")\n",
    "   \n",
    "    if again == 'yes':\n",
    "        play_function()\n",
    "    else:\n",
    "        print(\"Thank you for playing\")\n",
    "    return"
   ]
  },
  {
   "cell_type": "code",
   "execution_count": null,
   "id": "c1ddfcbd",
   "metadata": {},
   "outputs": [],
   "source": [
    "#call the function\n",
    "play_again_function()"
   ]
  },
  {
   "cell_type": "code",
   "execution_count": null,
   "id": "f647c1f6",
   "metadata": {},
   "outputs": [],
   "source": []
  },
  {
   "cell_type": "code",
   "execution_count": null,
   "id": "8ae7d443",
   "metadata": {},
   "outputs": [],
   "source": []
  }
 ],
 "metadata": {
  "kernelspec": {
   "display_name": "Python 3 (ipykernel)",
   "language": "python",
   "name": "python3"
  },
  "language_info": {
   "codemirror_mode": {
    "name": "ipython",
    "version": 3
   },
   "file_extension": ".py",
   "mimetype": "text/x-python",
   "name": "python",
   "nbconvert_exporter": "python",
   "pygments_lexer": "ipython3",
   "version": "3.9.12"
  }
 },
 "nbformat": 4,
 "nbformat_minor": 5
}
