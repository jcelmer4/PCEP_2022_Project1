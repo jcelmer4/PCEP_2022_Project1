{
 "cells": [
  {
   "cell_type": "code",
   "execution_count": 1,
   "id": "068bd881",
   "metadata": {},
   "outputs": [],
   "source": [
    "def game_function():\n",
    "\n",
    "    if user_input == 'rock' and comp_input == 'scissors':\n",
    "        print(\"You wins!\")\n",
    "    elif user_input == 'scissors' and comp_input == 'paper':\n",
    "        print(\"You wins!\")\n",
    "    elif user_input == 'paper' and comp_input == 'rock':\n",
    "        print(\"You wins!\")\n",
    "    elif comp_input == 'rock' and user_input == 'scissors':\n",
    "        print(\"You lose.\")\n",
    "    elif comp_input == 'scissors' and user_input == 'paper':\n",
    "        print(\"You lose.\")\n",
    "    elif comp_input == 'paper' and user_input == 'rock':\n",
    "        print(\"You lose.\")\n",
    "    elif user_input == comp_input:\n",
    "        print(\"It\\'s a draw\")\n",
    "    else:\n",
    "        print(\"Error in choice.\")\n",
    "    return"
   ]
  },
  {
   "cell_type": "code",
   "execution_count": 9,
   "id": "03ab2113",
   "metadata": {},
   "outputs": [
    {
     "name": "stdout",
     "output_type": "stream",
     "text": [
      "User select rock, paper, or scissors: scissors\n",
      "Computer select rock, paper, or scissors: paper\n",
      "You wins!\n"
     ]
    }
   ],
   "source": [
    "#Hard code game\n",
    "user_input = input(\"User select rock, paper, or scissors: \")\n",
    "user_input = user_input.lower()\n",
    "comp_input = input(\"Computer select rock, paper, or scissors: \")\n",
    "comp_input = comp_input.lower()\n",
    "game_function()"
   ]
  },
  {
   "cell_type": "code",
   "execution_count": 16,
   "id": "212122e9",
   "metadata": {},
   "outputs": [
    {
     "name": "stdout",
     "output_type": "stream",
     "text": [
      "User select rock, paper, or scissors: rock\n",
      "The computer selects... scissors\n",
      "You wins!\n"
     ]
    }
   ],
   "source": [
    "# run game with computer selecting random choice\n",
    "import random as rand\n",
    "options = ['rock', 'scissors', 'paper']\n",
    "user_input = input(\"User select rock, paper, or scissors: \")\n",
    "user_input = user_input.lower()\n",
    "comp_input = rand.choice(options)\n",
    "print(f\"The computer selects... {comp_input}\")\n",
    "game_function()    "
   ]
  },
  {
   "cell_type": "code",
   "execution_count": null,
   "id": "30b67953",
   "metadata": {},
   "outputs": [],
   "source": []
  }
 ],
 "metadata": {
  "kernelspec": {
   "display_name": "Python 3 (ipykernel)",
   "language": "python",
   "name": "python3"
  },
  "language_info": {
   "codemirror_mode": {
    "name": "ipython",
    "version": 3
   },
   "file_extension": ".py",
   "mimetype": "text/x-python",
   "name": "python",
   "nbconvert_exporter": "python",
   "pygments_lexer": "ipython3",
   "version": "3.9.12"
  }
 },
 "nbformat": 4,
 "nbformat_minor": 5
}
